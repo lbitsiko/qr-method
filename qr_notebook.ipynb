{
 "cells": [
  {
   "cell_type": "code",
   "execution_count": 1,
   "metadata": {},
   "outputs": [],
   "source": [
    "import numpy as np\n",
    "import numpy.linalg as LA"
   ]
  },
  {
   "cell_type": "code",
   "execution_count": 2,
   "metadata": {},
   "outputs": [
    {
     "data": {
      "text/plain": [
       "array([[ 4.        ,  0.66666667, -1.33333333,  1.33333333],\n",
       "       [ 0.66666667,  4.        ,  0.        ,  0.        ],\n",
       "       [-1.33333333,  0.        ,  6.        ,  2.        ],\n",
       "       [ 1.33333333,  0.        ,  2.        ,  6.        ]])"
      ]
     },
     "execution_count": 2,
     "metadata": {},
     "output_type": "execute_result"
    }
   ],
   "source": [
    "A = np.float64(np.array( [[4, 2/3, -(4/3), 4/3], \n",
    "                          [2/3, 4, 0, 0],\n",
    "                          [-(4/3), 0, 6, 2],\n",
    "                          [4/3, 0, 2, 6]]))\n",
    "A"
   ]
  },
  {
   "cell_type": "code",
   "execution_count": 3,
   "metadata": {},
   "outputs": [],
   "source": [
    "def get_eigs_QR(A, maxiter = 2, print_everything=False):\n",
    "    \"\"\"\n",
    "    Eigenvalue and eigenvectors computation using the QR factorization\n",
    "    algorithm uses np.linalg.qr() for the QR factorization\n",
    "    \n",
    "    Parameters:\n",
    "                * A symmetric nxn matrix\n",
    "                * maxiter = 2 (default) number of iterations\n",
    "                * print_everything = False (default) print details for each iteration\n",
    "    Returns:\n",
    "            * A : nxn matrix whose diagonal contains the approximation of eigenvalues of matrix A\n",
    "            * P : nxn matrix whose each column is an eigenvector of matrix A\n",
    "    \"\"\"\n",
    "    A_1 = A.copy()\n",
    "    P = np.identity(A.shape[0])\n",
    "    Q , R = LA.qr(A_1)\n",
    "    if print_everything:\n",
    "        print(\"Starting with\")\n",
    "        print(\"A[1] = \")\n",
    "        print(A_1)\n",
    "        print(\"P[0] = \")\n",
    "        print(P)\n",
    "        print(\"\")\n",
    "    for s in range(maxiter):\n",
    "        A_new = np.matmul(R,Q)\n",
    "        P = np.matmul(P,Q)\n",
    "        Q, R = LA.qr(A_new)\n",
    "        if print_everything:\n",
    "            print(\"Iteration: \", s+1)\n",
    "            print(\"A[{}]\".format(s+2))\n",
    "            print(A_new)\n",
    "            print(\"P[{}]\".format(s+1))\n",
    "            print(P)\n",
    "            print(\"eigenvalue approximation:\")\n",
    "            print(np.sort(A_new.diagonal(0)))\n",
    "            print(\"\")\n",
    "    return A_new, P\n"
   ]
  },
  {
   "cell_type": "code",
   "execution_count": 4,
   "metadata": {},
   "outputs": [
    {
     "name": "stdout",
     "output_type": "stream",
     "text": [
      "Starting with\n",
      "A[1] = \n",
      "[[ 4.          0.66666667 -1.33333333  1.33333333]\n",
      " [ 0.66666667  4.          0.          0.        ]\n",
      " [-1.33333333  0.          6.          2.        ]\n",
      " [ 1.33333333  0.          2.          6.        ]]\n",
      "P[0] = \n",
      "[[1. 0. 0. 0.]\n",
      " [0. 1. 0. 0.]\n",
      " [0. 0. 1. 0.]\n",
      " [0. 0. 0. 1.]]\n",
      "\n",
      "Iteration:  1\n",
      "A[2]\n",
      "[[ 5.6         0.27692308 -0.38193764 -1.10337539]\n",
      " [ 0.27692308  3.9147929   0.11751927  0.33950012]\n",
      " [-0.38193764  0.11751927  7.40990987 -1.70470481]\n",
      " [-1.10337539  0.33950012 -1.70470481  3.07529723]]\n",
      "P[1]\n",
      "[[-0.89442719  0.10320314 -0.14233975 -0.41120373]\n",
      " [-0.1490712  -0.98616331  0.02372329  0.06853395]\n",
      " [ 0.2981424  -0.09173612 -0.87578487 -0.36837001]\n",
      " [-0.2981424   0.09173612 -0.46062725  0.8309742 ]]\n",
      "eigenvalue approximation:\n",
      "[3.07529723 3.9147929  5.6        7.40990987]\n",
      "\n",
      "Iteration:  2\n",
      "A[3]\n",
      "[[ 5.95121951  0.05412629 -0.0401139   0.43382443]\n",
      " [ 0.05412629  3.97034176  0.02198022 -0.23771202]\n",
      " [-0.0401139   0.02198022  7.94980035  0.54289988]\n",
      " [ 0.43382443 -0.23771202  0.54289988  2.12863838]]\n",
      "P[2]\n",
      "[[ 0.78086881 -0.0770172   0.05707873 -0.61729594]\n",
      " [ 0.20823168  0.96770683 -0.01308054  0.14146365]\n",
      " [-0.41646337  0.16972308  0.75434435 -0.4782436 ]\n",
      " [ 0.41646337 -0.16972308  0.653862    0.60845446]]\n",
      "eigenvalue approximation:\n",
      "[2.12863838 3.97034176 5.95121951 7.94980035]\n",
      "\n"
     ]
    }
   ],
   "source": [
    "# Approximation of eigenvalues for matrix A\n",
    "# using our algorithm for 2 iterations\n",
    "A_eigvals, P_eigvecs = get_eigs_QR(A, print_everything=True)"
   ]
  },
  {
   "cell_type": "code",
   "execution_count": 5,
   "metadata": {},
   "outputs": [
    {
     "data": {
      "text/plain": [
       "array([2.00056875, 3.99951186, 5.99993226, 7.99998713])"
      ]
     },
     "execution_count": 5,
     "metadata": {},
     "output_type": "execute_result"
    }
   ],
   "source": [
    "# for 5 iterations\n",
    "A_eigvals, P_eigvecs = get_eigs_QR(A,maxiter = 5 )\n",
    "np.sort(A_eigvals.diagonal(0))"
   ]
  },
  {
   "cell_type": "code",
   "execution_count": 6,
   "metadata": {},
   "outputs": [
    {
     "data": {
      "text/plain": [
       "array([2., 4., 6., 8.])"
      ]
     },
     "execution_count": 6,
     "metadata": {},
     "output_type": "execute_result"
    }
   ],
   "source": [
    "# Computation of eigenvalues using np.linalg\n",
    "w,v = LA.eigh(A)\n",
    "w"
   ]
  },
  {
   "cell_type": "code",
   "execution_count": null,
   "metadata": {},
   "outputs": [],
   "source": []
  }
 ],
 "metadata": {
  "kernelspec": {
   "display_name": "Python 3",
   "language": "python",
   "name": "python3"
  },
  "language_info": {
   "codemirror_mode": {
    "name": "ipython",
    "version": 3
   },
   "file_extension": ".py",
   "mimetype": "text/x-python",
   "name": "python",
   "nbconvert_exporter": "python",
   "pygments_lexer": "ipython3",
   "version": "3.8.1"
  }
 },
 "nbformat": 4,
 "nbformat_minor": 4
}
